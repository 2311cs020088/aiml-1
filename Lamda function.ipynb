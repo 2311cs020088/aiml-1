{
 "cells": [
  {
   "cell_type": "code",
   "execution_count": 4,
   "id": "93eb651d-e801-4797-8fe7-444758854347",
   "metadata": {},
   "outputs": [],
   "source": [
    "greet = lambda name : print(f\"Good Morning {name}!\")"
   ]
  },
  {
   "cell_type": "code",
   "execution_count": 5,
   "id": "4db1e303-befa-4118-a443-545bbfaa0451",
   "metadata": {},
   "outputs": [
    {
     "name": "stdout",
     "output_type": "stream",
     "text": [
      "Good Morning Ram!\n"
     ]
    }
   ],
   "source": [
    "greet(\"Ram\")"
   ]
  },
  {
   "cell_type": "code",
   "execution_count": 6,
   "id": "74fce124-75de-4133-ac3c-a95f57a3c706",
   "metadata": {},
   "outputs": [],
   "source": [
    "product = lambda a,b,c : a*b*c"
   ]
  },
  {
   "cell_type": "code",
   "execution_count": 7,
   "id": "1c94ddf7-6488-4545-bc9a-362bfadacd74",
   "metadata": {},
   "outputs": [
    {
     "data": {
      "text/plain": [
       "9860"
      ]
     },
     "execution_count": 7,
     "metadata": {},
     "output_type": "execute_result"
    }
   ],
   "source": [
    "product(10,29,34)"
   ]
  },
  {
   "cell_type": "code",
   "execution_count": 13,
   "id": "ba1e36db-c00a-40a4-8b27-d142256e7cd8",
   "metadata": {},
   "outputs": [],
   "source": [
    "even = lambda l : [x for x in l if x%2 == 0]"
   ]
  },
  {
   "cell_type": "code",
   "execution_count": 14,
   "id": "42288131-0c23-46b2-bd97-56b6752fdcd4",
   "metadata": {},
   "outputs": [
    {
     "data": {
      "text/plain": [
       "[12, 34, 72]"
      ]
     },
     "execution_count": 14,
     "metadata": {},
     "output_type": "execute_result"
    }
   ],
   "source": [
    "my_list = [12,34,73,72,89]\n",
    "even(my_list)"
   ]
  },
  {
   "cell_type": "code",
   "execution_count": null,
   "id": "18186e62-e3d6-43fb-b77d-66a06f39b91d",
   "metadata": {},
   "outputs": [],
   "source": []
  }
 ],
 "metadata": {
  "kernelspec": {
   "display_name": "Python 3 (ipykernel)",
   "language": "python",
   "name": "python3"
  },
  "language_info": {
   "codemirror_mode": {
    "name": "ipython",
    "version": 3
   },
   "file_extension": ".py",
   "mimetype": "text/x-python",
   "name": "python",
   "nbconvert_exporter": "python",
   "pygments_lexer": "ipython3",
   "version": "3.12.7"
  }
 },
 "nbformat": 4,
 "nbformat_minor": 5
}
