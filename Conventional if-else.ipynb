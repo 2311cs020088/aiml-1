{
 "cells": [
  {
   "cell_type": "markdown",
   "id": "1cf070df-b18b-40e1-98cf-baa005004ec2",
   "metadata": {},
   "source": [
    "#### IF ELSE ####"
   ]
  },
  {
   "cell_type": "code",
   "execution_count": 8,
   "id": "d4b458b3-2692-421a-b788-7f0407822c6f",
   "metadata": {},
   "outputs": [
    {
     "name": "stdout",
     "output_type": "stream",
     "text": [
      "even\n"
     ]
    }
   ],
   "source": [
    "num = 6\n",
    "print(\"even\") if num %2 == 0 else print(\"odd\")"
   ]
  },
  {
   "cell_type": "code",
   "execution_count": 4,
   "id": "71e5f3ec-5e17-4175-8e47-0daf0cc9b82c",
   "metadata": {},
   "outputs": [
    {
     "name": "stdout",
     "output_type": "stream",
     "text": [
      "Positive\n"
     ]
    }
   ],
   "source": [
    "x = 1\n",
    "result = \"Positive\" if x > 0 else \"negative\"\n",
    "print(result)"
   ]
  },
  {
   "cell_type": "code",
   "execution_count": 5,
   "id": "072c68ad-40d4-4ef1-ba81-70b0203f8130",
   "metadata": {},
   "outputs": [
    {
     "name": "stdin",
     "output_type": "stream",
     "text": [
      "Enter a number:  4\n"
     ]
    },
    {
     "name": "stdout",
     "output_type": "stream",
     "text": [
      "Positive\n"
     ]
    }
   ],
   "source": [
    "num = int(input(\"Enter a number: \"))\n",
    "result = \"Positive\" if num > 0 else (\"negative\" if num < 0 else \"Zero\")\n",
    "print(result)\n",
    "          "
   ]
  },
  {
   "cell_type": "code",
   "execution_count": 6,
   "id": "f5450cf2-7d00-4b55-bace-3e0b138591fe",
   "metadata": {},
   "outputs": [
    {
     "name": "stdin",
     "output_type": "stream",
     "text": [
      "Enter a number:  0\n"
     ]
    },
    {
     "name": "stdout",
     "output_type": "stream",
     "text": [
      "Zero\n"
     ]
    }
   ],
   "source": [
    "num = int(input(\"Enter a number: \"))\n",
    "result = \"Positive\" if num > 0 else (\"negative\" if num < 0 else \"Zero\")\n",
    "print(result)\n",
    "          "
   ]
  },
  {
   "cell_type": "code",
   "execution_count": 7,
   "id": "51091624-3020-4eae-896a-1843b563a39f",
   "metadata": {},
   "outputs": [
    {
     "name": "stdin",
     "output_type": "stream",
     "text": [
      "Enter a number:  -8\n"
     ]
    },
    {
     "name": "stdout",
     "output_type": "stream",
     "text": [
      "negative\n"
     ]
    }
   ],
   "source": [
    "num = int(input(\"Enter a number: \"))\n",
    "result = \"Positive\" if num > 0 else (\"negative\" if num < 0 else \"Zero\")\n",
    "print(result)\n",
    "          "
   ]
  },
  {
   "cell_type": "code",
   "execution_count": 9,
   "id": "b0e5f7c1-2051-4477-8b16-763547bdedb1",
   "metadata": {},
   "outputs": [
    {
     "data": {
      "text/plain": [
       "[2, 4, 6, 8]"
      ]
     },
     "execution_count": 9,
     "metadata": {},
     "output_type": "execute_result"
    }
   ],
   "source": [
    "L = [1,3,5,2,4,6,8,7]\n",
    "[x for x in L if x%2 == 0 ]"
   ]
  },
  {
   "cell_type": "code",
   "execution_count": 13,
   "id": "3ae3ee71-1c24-48ca-834d-b307236cbfc5",
   "metadata": {},
   "outputs": [
    {
     "data": {
      "text/plain": [
       "[3, 6]"
      ]
     },
     "execution_count": 13,
     "metadata": {},
     "output_type": "execute_result"
    }
   ],
   "source": [
    "L = [1,3,5,2,4,6,8,7]\n",
    "[x for x in L if x%3 == 0 ]"
   ]
  },
  {
   "cell_type": "code",
   "execution_count": 18,
   "id": "41c3c0a6-24df-4e0d-a14d-7a2812b22f5c",
   "metadata": {},
   "outputs": [
    {
     "data": {
      "text/plain": [
       "[48000.0, 70000, 64000, 30000.0]"
      ]
     },
     "execution_count": 18,
     "metadata": {},
     "output_type": "execute_result"
    }
   ],
   "source": [
    "sal = [40000,70000,64000,25000]\n",
    "[(x*1.2 if x <= 50000 else x) for x in sal] "
   ]
  },
  {
   "cell_type": "code",
   "execution_count": 19,
   "id": "04582ef7-3eca-451a-9595-2e749194ae5a",
   "metadata": {},
   "outputs": [
    {
     "data": {
      "text/plain": [
       "{'Ram': [2, 4, 5, 9, 6], 'john': [4, 7, 45, 83, 3]}"
      ]
     },
     "execution_count": 19,
     "metadata": {},
     "output_type": "execute_result"
    }
   ],
   "source": [
    "d1 = {'Ram':[2,4,5,9,6], 'john':[4,7,45,83,3]}\n",
    "d1"
   ]
  },
  {
   "cell_type": "code",
   "execution_count": 20,
   "id": "b5c4e014-07cc-4ae3-b324-330a90097182",
   "metadata": {},
   "outputs": [
    {
     "data": {
      "text/plain": [
       "{'Ram': 5.2, 'john': 28.4}"
      ]
     },
     "execution_count": 20,
     "metadata": {},
     "output_type": "execute_result"
    }
   ],
   "source": [
    "{k:sum(v)/len(v) for k,v in d1.items()}"
   ]
  },
  {
   "cell_type": "markdown",
   "id": "e01da3c5-3ae9-41e3-b4ac-ce1fae839abe",
   "metadata": {},
   "source": [
    "#### user defined function ####"
   ]
  },
  {
   "cell_type": "code",
   "execution_count": 22,
   "id": "4703c9bb-2162-4009-ac91-acec1bd7bf4a",
   "metadata": {},
   "outputs": [],
   "source": [
    "# define function(reusable)\n",
    "def mean_value(given_list):\n",
    "    total = sum(given_list)\n",
    "    average_value = total/len(given_list)\n",
    "    return average_value"
   ]
  },
  {
   "cell_type": "code",
   "execution_count": 23,
   "id": "2a7fe306-516e-4774-ad64-58fb22002532",
   "metadata": {},
   "outputs": [
    {
     "data": {
      "text/plain": [
       "4.666666666666667"
      ]
     },
     "execution_count": 23,
     "metadata": {},
     "output_type": "execute_result"
    }
   ],
   "source": [
    "a = [2,4,5,3,6,8]\n",
    "mean_value(a)"
   ]
  },
  {
   "cell_type": "code",
   "execution_count": 26,
   "id": "621ca545-18c8-453c-88d5-edfeab6193df",
   "metadata": {},
   "outputs": [],
   "source": [
    "def greet(name):\n",
    "    print(f\"Good Morning {name}!\")"
   ]
  },
  {
   "cell_type": "code",
   "execution_count": 28,
   "id": "41c71b37-8246-4a58-accf-8e80b04f5a53",
   "metadata": {},
   "outputs": [
    {
     "name": "stdout",
     "output_type": "stream",
     "text": [
      "Good Morning kylan!\n"
     ]
    }
   ],
   "source": [
    "greet(\"kylan\")"
   ]
  },
  {
   "cell_type": "code",
   "execution_count": 29,
   "id": "4cdcc8f5-6986-43b4-936b-009a20e61a0b",
   "metadata": {},
   "outputs": [],
   "source": [
    "def greet(name = \"kylan\"):\n",
    "    print(f\"Good Morning {name}!\")"
   ]
  },
  {
   "cell_type": "code",
   "execution_count": 30,
   "id": "c0911c3f-1d09-4714-b794-8943cc102183",
   "metadata": {},
   "outputs": [
    {
     "name": "stdout",
     "output_type": "stream",
     "text": [
      "Good Morning ram!\n"
     ]
    }
   ],
   "source": [
    "greet(\"ram\")"
   ]
  },
  {
   "cell_type": "code",
   "execution_count": 31,
   "id": "c1ba7d5b-763d-4c42-b599-333bd4c40346",
   "metadata": {},
   "outputs": [],
   "source": [
    "def avg_value(*n):\n",
    "    i = len(n)\n",
    "    average = sum(n)/1\n",
    "    return average"
   ]
  },
  {
   "cell_type": "code",
   "execution_count": 34,
   "id": "769bd8b1-94e1-490c-a171-7f5ebceaeaad",
   "metadata": {},
   "outputs": [
    {
     "data": {
      "text/plain": [
       "70.3"
      ]
     },
     "execution_count": 34,
     "metadata": {},
     "output_type": "execute_result"
    }
   ],
   "source": [
    "avg_value(10,20.30,40)"
   ]
  },
  {
   "cell_type": "code",
   "execution_count": 35,
   "id": "750799e6",
   "metadata": {},
   "outputs": [
    {
     "data": {
      "text/plain": [
       "767.3"
      ]
     },
     "execution_count": 35,
     "metadata": {},
     "output_type": "execute_result"
    }
   ],
   "source": [
    "avg_value(10,20.30,60,677)"
   ]
  },
  {
   "cell_type": "code",
   "execution_count": null,
   "id": "9094ad99-4e11-4968-92ce-a1ad06b4133e",
   "metadata": {},
   "outputs": [],
   "source": []
  }
 ],
 "metadata": {
  "kernelspec": {
   "display_name": "Python 3 (ipykernel)",
   "language": "python",
   "name": "python3"
  },
  "language_info": {
   "codemirror_mode": {
    "name": "ipython",
    "version": 3
   },
   "file_extension": ".py",
   "mimetype": "text/x-python",
   "name": "python",
   "nbconvert_exporter": "python",
   "pygments_lexer": "ipython3",
   "version": "3.12.7"
  }
 },
 "nbformat": 4,
 "nbformat_minor": 5
}
