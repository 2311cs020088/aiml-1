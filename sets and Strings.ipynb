{
 "cells": [
  {
   "cell_type": "code",
   "execution_count": 2,
   "id": "de0940ee-e1aa-4b87-9311-5b18b8a964ec",
   "metadata": {},
   "outputs": [
    {
     "name": "stdout",
     "output_type": "stream",
     "text": [
      "{0, 1, 2, 3, 4, 5, 8, 9}\n",
      "<class 'set'>\n"
     ]
    }
   ],
   "source": [
    "s1 = {1,8,3,4,5,0,2,9}\n",
    "print(s1)\n",
    "print(type(s1))"
   ]
  },
  {
   "cell_type": "code",
   "execution_count": 5,
   "id": "dfec62bc-f181-4064-ae24-7e91f180bd99",
   "metadata": {},
   "outputs": [],
   "source": [
    "list1 = [1,4,6,7,7,44,3]"
   ]
  },
  {
   "cell_type": "code",
   "execution_count": 6,
   "id": "4a5e7861-3d76-40f5-9948-0b1f69db67a9",
   "metadata": {
    "scrolled": true
   },
   "outputs": [
    {
     "data": {
      "text/plain": [
       "{1, 3, 4, 6, 7, 44}"
      ]
     },
     "execution_count": 6,
     "metadata": {},
     "output_type": "execute_result"
    }
   ],
   "source": [
    "s2 = set(list1)\n",
    "s2"
   ]
  },
  {
   "cell_type": "code",
   "execution_count": 7,
   "id": "0a20473a-5fde-4ff2-9c57-050cc308f2bb",
   "metadata": {},
   "outputs": [],
   "source": [
    "s1 = {1,2,3,4}\n",
    "s2 = {3,4,5,6}"
   ]
  },
  {
   "cell_type": "code",
   "execution_count": 8,
   "id": "ecfac8d7-6870-4380-af7b-199002e2deb8",
   "metadata": {},
   "outputs": [
    {
     "data": {
      "text/plain": [
       "{1, 2, 3, 4, 5, 6}"
      ]
     },
     "execution_count": 8,
     "metadata": {},
     "output_type": "execute_result"
    }
   ],
   "source": [
    "s1 | s2"
   ]
  },
  {
   "cell_type": "code",
   "execution_count": 9,
   "id": "4bbec38a-d704-4082-99e9-9c9cbb2e6486",
   "metadata": {},
   "outputs": [
    {
     "data": {
      "text/plain": [
       "{1, 2, 3, 4, 5, 6}"
      ]
     },
     "execution_count": 9,
     "metadata": {},
     "output_type": "execute_result"
    }
   ],
   "source": [
    "s1.union(s2)"
   ]
  },
  {
   "cell_type": "code",
   "execution_count": 12,
   "id": "3e144e58-7c37-4f20-a243-4e06bdf17931",
   "metadata": {},
   "outputs": [],
   "source": [
    "s1 = {1,2,5}\n",
    "s2 = {4,5,6}"
   ]
  },
  {
   "cell_type": "code",
   "execution_count": 13,
   "id": "4d7f5531-3aa3-4004-801c-8e0c33e084ba",
   "metadata": {},
   "outputs": [
    {
     "data": {
      "text/plain": [
       "{5}"
      ]
     },
     "execution_count": 13,
     "metadata": {},
     "output_type": "execute_result"
    }
   ],
   "source": [
    "s1 & s2"
   ]
  },
  {
   "cell_type": "code",
   "execution_count": 14,
   "id": "7da7e359-9979-47f3-be2c-6d32d614f7d2",
   "metadata": {},
   "outputs": [
    {
     "data": {
      "text/plain": [
       "{5}"
      ]
     },
     "execution_count": 14,
     "metadata": {},
     "output_type": "execute_result"
    }
   ],
   "source": [
    "s1.intersection(s2)"
   ]
  },
  {
   "cell_type": "code",
   "execution_count": 15,
   "id": "4a5593f9-6cb1-447b-b4ad-43b07dcd782b",
   "metadata": {},
   "outputs": [],
   "source": [
    "s1 = {2,3,5,7}\n",
    "s2 = {5,6,8}"
   ]
  },
  {
   "cell_type": "code",
   "execution_count": 16,
   "id": "cb3dc5ea-4cb6-4abc-a687-4fc54f87b7fe",
   "metadata": {},
   "outputs": [
    {
     "data": {
      "text/plain": [
       "{2, 3, 7}"
      ]
     },
     "execution_count": 16,
     "metadata": {},
     "output_type": "execute_result"
    }
   ],
   "source": [
    "s1 - s2"
   ]
  },
  {
   "cell_type": "code",
   "execution_count": 17,
   "id": "ccdc430b-af16-4e5e-bc06-86a17ed9f3f8",
   "metadata": {},
   "outputs": [],
   "source": [
    "s1 = {1,2,3,4,5,}\n",
    "s2 = {1,2,3}"
   ]
  },
  {
   "cell_type": "code",
   "execution_count": 18,
   "id": "e0f11371-e2db-4167-963c-2fac6919213a",
   "metadata": {},
   "outputs": [
    {
     "data": {
      "text/plain": [
       "True"
      ]
     },
     "execution_count": 18,
     "metadata": {},
     "output_type": "execute_result"
    }
   ],
   "source": [
    "s2.issubset(s1)"
   ]
  },
  {
   "cell_type": "code",
   "execution_count": 19,
   "id": "2de1bb1a-c437-4f88-95a6-4f989b515969",
   "metadata": {},
   "outputs": [
    {
     "data": {
      "text/plain": [
       "False"
      ]
     },
     "execution_count": 19,
     "metadata": {},
     "output_type": "execute_result"
    }
   ],
   "source": [
    "s2.issuperset(s1)"
   ]
  },
  {
   "cell_type": "markdown",
   "id": "d86d2a7c-b00b-4133-9775-b86044dd06e1",
   "metadata": {},
   "source": [
    "##### Strings"
   ]
  },
  {
   "cell_type": "code",
   "execution_count": 20,
   "id": "c347470f-1f8c-4a25-b0b9-b52239173f65",
   "metadata": {},
   "outputs": [],
   "source": [
    "str1 = \"Welcome to aiml class\"\n",
    "str2 = 'We started with python'\n",
    "str3 = '''This is awesome class'''"
   ]
  },
  {
   "cell_type": "code",
   "execution_count": 21,
   "id": "bad67ba3-a95d-494b-b8cd-3b6fea280754",
   "metadata": {},
   "outputs": [
    {
     "name": "stdout",
     "output_type": "stream",
     "text": [
      "<class 'str'>\n",
      "<class 'str'>\n",
      "<class 'str'>\n"
     ]
    }
   ],
   "source": [
    "print(type(str1))\n",
    "print(type(str2))\n",
    "print(type(str3))"
   ]
  },
  {
   "cell_type": "code",
   "execution_count": 22,
   "id": "950a36cc-d36a-4bc6-bd2a-f43df42f855c",
   "metadata": {},
   "outputs": [
    {
     "name": "stdout",
     "output_type": "stream",
     "text": [
      "Welcome to aiml class\n"
     ]
    },
    {
     "data": {
      "text/plain": [
       "'me to'"
      ]
     },
     "execution_count": 22,
     "metadata": {},
     "output_type": "execute_result"
    }
   ],
   "source": [
    "print(str1)\n",
    "str1[5:10]"
   ]
  },
  {
   "cell_type": "code",
   "execution_count": 23,
   "id": "898dd857-90e1-4920-84b1-46f419292c6d",
   "metadata": {},
   "outputs": [
    {
     "data": {
      "text/plain": [
       "['__add__',\n",
       " '__class__',\n",
       " '__contains__',\n",
       " '__delattr__',\n",
       " '__dir__',\n",
       " '__doc__',\n",
       " '__eq__',\n",
       " '__format__',\n",
       " '__ge__',\n",
       " '__getattribute__',\n",
       " '__getitem__',\n",
       " '__getnewargs__',\n",
       " '__getstate__',\n",
       " '__gt__',\n",
       " '__hash__',\n",
       " '__init__',\n",
       " '__init_subclass__',\n",
       " '__iter__',\n",
       " '__le__',\n",
       " '__len__',\n",
       " '__lt__',\n",
       " '__mod__',\n",
       " '__mul__',\n",
       " '__ne__',\n",
       " '__new__',\n",
       " '__reduce__',\n",
       " '__reduce_ex__',\n",
       " '__repr__',\n",
       " '__rmod__',\n",
       " '__rmul__',\n",
       " '__setattr__',\n",
       " '__sizeof__',\n",
       " '__str__',\n",
       " '__subclasshook__',\n",
       " 'capitalize',\n",
       " 'casefold',\n",
       " 'center',\n",
       " 'count',\n",
       " 'encode',\n",
       " 'endswith',\n",
       " 'expandtabs',\n",
       " 'find',\n",
       " 'format',\n",
       " 'format_map',\n",
       " 'index',\n",
       " 'isalnum',\n",
       " 'isalpha',\n",
       " 'isascii',\n",
       " 'isdecimal',\n",
       " 'isdigit',\n",
       " 'isidentifier',\n",
       " 'islower',\n",
       " 'isnumeric',\n",
       " 'isprintable',\n",
       " 'isspace',\n",
       " 'istitle',\n",
       " 'isupper',\n",
       " 'join',\n",
       " 'ljust',\n",
       " 'lower',\n",
       " 'lstrip',\n",
       " 'maketrans',\n",
       " 'partition',\n",
       " 'removeprefix',\n",
       " 'removesuffix',\n",
       " 'replace',\n",
       " 'rfind',\n",
       " 'rindex',\n",
       " 'rjust',\n",
       " 'rpartition',\n",
       " 'rsplit',\n",
       " 'rstrip',\n",
       " 'split',\n",
       " 'splitlines',\n",
       " 'startswith',\n",
       " 'strip',\n",
       " 'swapcase',\n",
       " 'title',\n",
       " 'translate',\n",
       " 'upper',\n",
       " 'zfill']"
      ]
     },
     "execution_count": 23,
     "metadata": {},
     "output_type": "execute_result"
    }
   ],
   "source": [
    "dir(str)"
   ]
  },
  {
   "cell_type": "code",
   "execution_count": 24,
   "id": "432a6103-8f5e-4bd6-98ab-a8463ae95866",
   "metadata": {},
   "outputs": [
    {
     "name": "stdout",
     "output_type": "stream",
     "text": [
      "Welcome to aiml class\n"
     ]
    },
    {
     "data": {
      "text/plain": [
       "['Welcome', 'to', 'aiml', 'class']"
      ]
     },
     "execution_count": 24,
     "metadata": {},
     "output_type": "execute_result"
    }
   ],
   "source": [
    "print(str1)\n",
    "str1.split()"
   ]
  },
  {
   "cell_type": "code",
   "execution_count": 25,
   "id": "b40ea08c-99d9-4c3b-94be-d6d2af3a1a91",
   "metadata": {},
   "outputs": [
    {
     "name": "stdout",
     "output_type": "stream",
     "text": [
      "We started with python\n"
     ]
    },
    {
     "data": {
      "text/plain": [
       "['We', 'started', 'with', 'python']"
      ]
     },
     "execution_count": 25,
     "metadata": {},
     "output_type": "execute_result"
    }
   ],
   "source": [
    "print(str2)\n",
    "str2.split()"
   ]
  },
  {
   "cell_type": "code",
   "execution_count": 27,
   "id": "b81c9e99-f0c3-4c91-ab6a-7a85c64c8f86",
   "metadata": {},
   "outputs": [
    {
     "data": {
      "text/plain": [
       "'WWelcome to aiml classeWelcome to aiml class Welcome to aiml classsWelcome to aiml classtWelcome to aiml classaWelcome to aiml classrWelcome to aiml classtWelcome to aiml classeWelcome to aiml classdWelcome to aiml class Welcome to aiml classwWelcome to aiml classiWelcome to aiml classtWelcome to aiml classhWelcome to aiml class Welcome to aiml classpWelcome to aiml classyWelcome to aiml classtWelcome to aiml classhWelcome to aiml classoWelcome to aiml classn'"
      ]
     },
     "execution_count": 27,
     "metadata": {},
     "output_type": "execute_result"
    }
   ],
   "source": [
    "str1.join(str2)"
   ]
  },
  {
   "cell_type": "code",
   "execution_count": 29,
   "id": "8202db82-f592-449f-9970-763c81f19865",
   "metadata": {},
   "outputs": [
    {
     "data": {
      "text/plain": [
       "'H e l l o ,   h o w   a r e   y o u'"
      ]
     },
     "execution_count": 29,
     "metadata": {},
     "output_type": "execute_result"
    }
   ],
   "source": [
    "str4 = \"Hello, how are you\"\n",
    "' '.join(str4)"
   ]
  },
  {
   "cell_type": "code",
   "execution_count": 30,
   "id": "d79fab01-fb15-438d-87b4-800bd5821d38",
   "metadata": {},
   "outputs": [
    {
     "name": "stdout",
     "output_type": "stream",
     "text": [
      "Hello.how are you\n"
     ]
    }
   ],
   "source": [
    "str5 = \"         Hello.how are you      \"\n",
    "print(str5)"
   ]
  },
  {
   "cell_type": "code",
   "execution_count": 32,
   "id": "f61aa5f2-7794-4198-a984-a2bc0993e390",
   "metadata": {},
   "outputs": [
    {
     "data": {
      "text/plain": [
       "'Hello.how are you'"
      ]
     },
     "execution_count": 32,
     "metadata": {},
     "output_type": "execute_result"
    }
   ],
   "source": [
    "str5.strip()"
   ]
  },
  {
   "cell_type": "code",
   "execution_count": 33,
   "id": "f2fdca6c-e893-4a8d-8371-073d5fe401bb",
   "metadata": {},
   "outputs": [],
   "source": [
    "sales_data = {\n",
    "    \"ProductID\": [101, 102, 103, 104, 105, 106, 107, 108, 109, 110],\n",
    "    \"ProductName\": [\"Laptop\", \"Mouse\", \"Keyboard\", \"Monitor\", \"Chair\", \"Desk\", \"Webcam\", \"Headphones\", \"Printer\", \"Tablet\"],\n",
    "    \"Category\": [\"Electronics\", \"Accessories\", \"Accessories\", \"Electronics\", \"Furniture\", \"Furniture\", \"Electronics\", \"Accessories\", \"Electronics\", \"Electronics\"],\n",
    "    \"PriceRange\": [\"High\", \"Low\", \"Low\", \"Medium\", \"Medium\", \"Medium\", \"Low\", \"Low\", \"Medium\", \"High\"],\n",
    "    \"StockAvailable\": [15, 100, 75, 20, 10, 8, 50, 60, 25, 12],\n",
    "}"
   ]
  },
  {
   "cell_type": "code",
   "execution_count": 34,
   "id": "a06ed794-3048-429c-bf6e-9a83b57bdce4",
   "metadata": {},
   "outputs": [
    {
     "name": "stdout",
     "output_type": "stream",
     "text": [
      "ProductID {101, 102, 103, 104, 105, 106, 107, 108, 109, 110},/n\n",
      "ProductName {'Webcam', 'Desk', 'Keyboard', 'Laptop', 'Tablet', 'Monitor', 'Headphones', 'Printer', 'Chair', 'Mouse'},/n\n",
      "Category {'Accessories', 'Furniture', 'Electronics'},/n\n",
      "PriceRange {'High', 'Low', 'Medium'},/n\n",
      "StockAvailable {100, 8, 10, 75, 12, 15, 50, 20, 25, 60},/n\n"
     ]
    }
   ],
   "source": [
    "for k,v in sales_data.items():\n",
    "    print(k,set(v), end =',')\n",
    "    print('/n')"
   ]
  },
  {
   "cell_type": "code",
   "execution_count": 36,
   "id": "b8eed5aa-2d2f-4170-a323-ffe57c8aa038",
   "metadata": {},
   "outputs": [
    {
     "data": {
      "text/plain": [
       "{'Review1': {'WordCount': 14,\n",
       "  'UniqueWords': ['is',\n",
       "   'functionality',\n",
       "   'and',\n",
       "   'the',\n",
       "   'delivery',\n",
       "   'quality',\n",
       "   'was',\n",
       "   'prompt',\n",
       "   'product',\n",
       "   'excellent',\n",
       "   'versatile']},\n",
       " 'Review2': {'WordCount': 15,\n",
       "  'UniqueWords': ['better',\n",
       "   'packaging',\n",
       "   'good',\n",
       "   'customer',\n",
       "   'could',\n",
       "   'the',\n",
       "   'has',\n",
       "   'but',\n",
       "   'improve',\n",
       "   'been',\n",
       "   'service',\n",
       "   'have',\n",
       "   'to']},\n",
       " 'Review3': {'WordCount': 18,\n",
       "  'UniqueWords': ['works',\n",
       "   'rate',\n",
       "   'fine',\n",
       "   'is',\n",
       "   'i',\n",
       "   'customer',\n",
       "   'not',\n",
       "   'the',\n",
       "   'very',\n",
       "   'but',\n",
       "   'as',\n",
       "   'support',\n",
       "   'helpful',\n",
       "   'product',\n",
       "   'excellent']}}"
      ]
     },
     "execution_count": 36,
     "metadata": {},
     "output_type": "execute_result"
    }
   ],
   "source": [
    "reviews = {\n",
    "    \"Review1\": \"The product quality is excellent and delivery was prompt. The product functionality is versatile\",\n",
    "    \"Review2\": \"Good service but the packaging could have been better. The customer service has to improve\",\n",
    "    \"Review3\": \"The product works fine, but the customer support is not very helpful. I rate the product as excellent\",\n",
    "}\n",
    "\n",
    "\n",
    "review_analysis = {}\n",
    "\n",
    "for key, review in reviews.items():\n",
    "    words = review.lower().replace('.', '').replace(',', '').split()\n",
    "    review_analysis[key] = {\n",
    "        \"WordCount\": len(words),\n",
    "        \"UniqueWords\": list(set(words))\n",
    "    }\n",
    "review_analysis"
   ]
  },
  {
   "cell_type": "code",
   "execution_count": null,
   "id": "6dc7ab81-5f52-44a7-9bba-d1ebfa15018b",
   "metadata": {},
   "outputs": [],
   "source": []
  }
 ],
 "metadata": {
  "kernelspec": {
   "display_name": "Python 3 (ipykernel)",
   "language": "python",
   "name": "python3"
  },
  "language_info": {
   "codemirror_mode": {
    "name": "ipython",
    "version": 3
   },
   "file_extension": ".py",
   "mimetype": "text/x-python",
   "name": "python",
   "nbconvert_exporter": "python",
   "pygments_lexer": "ipython3",
   "version": "3.12.7"
  }
 },
 "nbformat": 4,
 "nbformat_minor": 5
}
